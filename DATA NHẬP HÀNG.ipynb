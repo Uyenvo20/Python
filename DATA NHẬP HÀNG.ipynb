{
 "cells": [
  {
   "cell_type": "code",
   "execution_count": null,
   "metadata": {},
   "outputs": [],
   "source": [
    "import pandas as pd\n",
    "import gspread\n",
    "import gspread_dataframe as gd\n",
    "import os\n",
    "from dotenv import load_dotenv\n",
    "import psycopg2 as pc\n",
    "import mysql.connector as mc"
   ]
  },
  {
   "cell_type": "markdown",
   "metadata": {},
   "source": [
    "# Khai báo sheet đổ data"
   ]
  },
  {
   "cell_type": "code",
   "execution_count": null,
   "metadata": {},
   "outputs": [],
   "source": [
    "mail = gspread.service_account('credentials.json')\n",
    "open = mail.open_by_url('https://docs.google.com/spreadsheets/d/1GxDY1w_r_KZuWD568vFKwIYFwcxCHOw2tmf-aApqhjw/edit#gid=723640405')\n",
    "sheet1 = open.worksheet('DATA RAW')"
   ]
  },
  {
   "cell_type": "markdown",
   "metadata": {},
   "source": [
    "# Kết nối với database Odoo"
   ]
  },
  {
   "cell_type": "code",
   "execution_count": null,
   "metadata": {},
   "outputs": [],
   "source": [
    "# Kết nối DB odoo mới\n",
    "load_dotenv('.envnewodoo')\n",
    "new_erp = pc.connect(\n",
    "    host = os.getenv('new_host'),\n",
    "    port = os.getenv('new_port'),\n",
    "    database = os.getenv('new_db'),\n",
    "    user = os.getenv('new_user'),\n",
    "    password = os.getenv('new_password')\n",
    ")\n",
    "\n",
    "# Kết nối DB odoo cũ\n",
    "load_dotenv('.envodoo')\n",
    "old_erp = pc.connect(\n",
    "    host = os.getenv('old_host'),\n",
    "    port = os.getenv('old_port'),\n",
    "    database = os.getenv('old_db'),\n",
    "    user = os.getenv('old_user'),\n",
    "    password = os.getenv('old_password')\n",
    ")"
   ]
  },
  {
   "cell_type": "code",
   "execution_count": null,
   "metadata": {},
   "outputs": [],
   "source": [
    "old_cursor = old_erp.cursor()\n",
    "old_cursor.execute(\n",
    "    \"\"\"\n",
    "SELECT\n",
    "\tDATE(sp.date_done + INTERVAL '7 hours') AS \"date\",\n",
    "\tpt.name AS pfcode,\n",
    "\tSPLIT_PART(pt.name,'-',1) AS default_code,\n",
    "\tSPLIT_PART(pt.name,'-',2) AS color,\n",
    "\tSPLIT_PART(pt.name,'-',3) AS size,\n",
    "    pt.list_price as tag_price,\n",
    "\tSUM(sml.qty_done) - CASE WHEN qty_export IS NULL THEN 0 ELSE qty_export END AS qty_import\n",
    "FROM stock_move_line sml\n",
    "\tLEFT JOIN stock_picking sp ON sml.picking_id = sp.id\n",
    "\tLEFT JOIN product_product pp ON sml.product_id = pp.id\n",
    "\tLEFT JOIN product_template pt ON pp.product_tmpl_id=pt.id\n",
    "\tFULL JOIN\n",
    "\t\t(SELECT\n",
    "\t\t\tDATE(sp.date_done + INTERVAL '7 hours') AS \"date\",\n",
    "\t\t\tpp.id,\n",
    "\t\t\tSUM(sml.qty_done) AS qty_export\n",
    "\t\tFROM\n",
    "\t\t\tstock_move_line sml\n",
    "\t\t\tLEFT JOIN product_product pp ON sml.product_id = pp.id\n",
    "\t\t\tLEFT JOIN stock_picking sp ON sml.picking_id = sp.id\n",
    "\t\tWHERE\n",
    "\t\t\tsml.location_dest_id IN ('3823', '8') -- địa điểm đích là kho xử lý và vendor\n",
    "\t\t\tAND sml.location_id IN ('3835', '1') -- địa điểm nguồn là Kho tổng\n",
    "\t\t\tAND sml.state = 'done'\n",
    "\t\t\tAND sp.date_done + '7 hour' <= '2023-07-01'\n",
    "\t\tGROUP BY\n",
    "\t\t\tpp.id,\n",
    "\t\t\tDATE(sp.date_done + INTERVAL '7 hours')) AS export ON export.id = pp.id \n",
    "\t\t\t\tAND export.\"date\" = DATE(sp.date_done + INTERVAL '7 hours')\n",
    "WHERE sml.location_dest_id IN ('3835', '1') -- địa điểm đích là kho tổng\n",
    "\tAND sml.location_id IN ('8', '3823') -- địa điểm nguồn là vendor, kho xử lý\n",
    "\tAND sml.state = 'done'\n",
    "\tAND sp.date_done + '7 hour' <= '2023-07-01'\n",
    "GROUP BY\n",
    "\tDATE(sp.date_done + INTERVAL '7 hours'),\n",
    "\tpt.name,\n",
    "    pt.list_price,\n",
    "\tqty_export\"\"\")\n",
    "\n",
    "data_old = old_cursor.fetchall()\n",
    "column_old = [name[0] for name in old_cursor.description]\n",
    "df_old = pd.DataFrame(data_old,columns=column_old)\n",
    "df_old"
   ]
  },
  {
   "cell_type": "code",
   "execution_count": null,
   "metadata": {},
   "outputs": [],
   "source": [
    "cat_new_cursor = new_erp.cursor()\n",
    "cat_new_cursor.execute(\n",
    "    \"\"\"\n",
    "    SELECT\n",
    "\tDISTINCT(TRIM(SPLIT_PART(pc.complete_name,'/',1))) AS cat1,\n",
    "\tTRIM(SPLIT_PART(pc.complete_name,'/',2)) AS cat2,\n",
    "\tTRIM(SPLIT_PART(pc.complete_name,'/',3)) AS cat3,\n",
    "\tpc1.name AS collection,\n",
    "\tpp.default_code AS pfcode\n",
    "FROM product_product pp\n",
    "\tLEFT JOIN product_template pt ON pp.product_tmpl_id=pt.id\n",
    "\tLEFT JOIN product_category pc ON pt.categ_id=pc.id\n",
    "\tLEFT JOIN product_collection pc1 ON pt.collection_id=pc1.id\n",
    "WHERE  pp.active = TRUE \"\"\")\n",
    "data_cat_new = cat_new_cursor.fetchall()\n",
    "columns_cat = [name[0] for name in cat_new_cursor.description]\n",
    "df_cat_new = pd.DataFrame(data_cat_new,columns=columns_cat)\n",
    "df_old = pd.merge(df_old, df_cat_new, on = 'pfcode', how = 'left')\n",
    "df_old = df_old.reindex(['date','cat1','cat2','cat3','collection','pfcode','default_code', 'color', 'size','tag_price', 'qty_import'],axis=1)\n",
    "df_old"
   ]
  },
  {
   "cell_type": "code",
   "execution_count": null,
   "metadata": {},
   "outputs": [],
   "source": [
    "new_cursor = new_erp.cursor()\n",
    "new_cursor.execute(\n",
    "    \"\"\"\n",
    "SELECT \n",
    "\tDATE(sp.date_done + INTERVAL '7 hours') AS \"date\",\n",
    "\tTRIM(SPLIT_PART(pc.complete_name,'/',1)) AS cat1,\n",
    "\tTRIM(SPLIT_PART(pc.complete_name,'/',2)) AS cat2,\n",
    "\tTRIM(SPLIT_PART(pc.complete_name,'/',3)) AS cat3,\n",
    "    pc1.name as collection,\n",
    "\tpp.default_code AS pfcode,\n",
    "\tSPLIT_PART(pp.default_code,'-',1) AS default_code,\n",
    "\tSPLIT_PART(pp.default_code,'-',2) AS color,\n",
    "\tSPLIT_PART(pp.default_code,'-',3) AS size,\n",
    "    pt.list_price as tag_price,\n",
    "\tSUM(sml.qty_done) - (CASE WHEN xuat.qty_export IS NULL THEN 0 ELSE xuat.qty_export END) AS qty_import\n",
    "FROM stock_picking sp\n",
    "\tLEFT JOIN stock_move sm ON sp.id=sm.picking_id\n",
    "\tLEFT JOIN stock_picking_type spt ON sp.picking_type_id=spt.id\n",
    "\tLEFT JOIN stock_move_line sml ON sm.id=sml.move_id\n",
    "\tLEFT JOIN product_product pp ON sml.product_id=pp.id\n",
    "\tLEFT JOIN product_template pt ON pp.product_tmpl_id=pt.id\n",
    "\tLEFT JOIN product_category pc ON pt.categ_id=pc.id\n",
    "\tLEFT JOIN product_collection pc1 ON pt.collection_id=pc1.id\n",
    "\tFULL JOIN\n",
    "\t\t(SELECT \n",
    "\t\t\tDATE(sp.date_done + INTERVAL '7 hours') AS \"date\",\n",
    "            pp.default_code AS pfcode,\n",
    "\t\t\tSUM(sml.qty_done) AS qty_export\n",
    "\t\tFROM stock_picking sp\n",
    "\t\t\tLEFT JOIN stock_move sm ON sp.id=sm.picking_id\n",
    "\t\t\tLEFT JOIN stock_picking_type spt ON sp.picking_type_id=spt.id\n",
    "\t\t\tLEFT JOIN stock_move_line sml ON sm.id=sml.move_id\n",
    "\t\t\tLEFT JOIN product_product pp ON sml.product_id=pp.id\n",
    "\t\tWHERE sp.state = 'done'\n",
    "\t\t\tAND pp.active = TRUE\n",
    "\t\t\tAND sp.location_dest_id IN ('5597','8')\n",
    "\t\tGROUP BY pp.default_code, \n",
    "        \tDATE(sp.date_done + INTERVAL '7 hours')) AS xuat ON xuat.pfcode = pp.default_code and xuat.\"date\"=DATE(sp.date_done + INTERVAL '7 hours')\n",
    "WHERE spt.name IN ('Nhận hàng')\n",
    "\tAND sp.location_dest_id = 5565\n",
    "\tAND sp.location_id = 8\n",
    "\tAND sp.state = 'done'\n",
    "\tAND pp.active = TRUE\n",
    "GROUP BY\tpp.default_code,\n",
    "\txuat.qty_export,\n",
    "\tDATE(sp.date_done + INTERVAL '7 hours'),\n",
    "\tcat1,\n",
    "\tcat2,\n",
    "\tcat3,\n",
    "    collection,\n",
    "    pt.list_price\n",
    "\"\"\"\n",
    ")\n",
    "data_new = new_cursor.fetchall()\n",
    "column_new = [name[0] for name in new_cursor.description]\n",
    "df_new = pd.DataFrame(data_new,columns=column_new)\n",
    "df_new"
   ]
  },
  {
   "cell_type": "code",
   "execution_count": null,
   "metadata": {},
   "outputs": [],
   "source": [
    "df_import = pd.concat([df_old,df_new],ignore_index=True)\n",
    "df_import.sort_values(by=['date'],ascending=False,inplace=True)\n",
    "print(df_import.shape)"
   ]
  },
  {
   "cell_type": "code",
   "execution_count": null,
   "metadata": {},
   "outputs": [],
   "source": [
    "sheet1.batch_clear([f'A:K'])\n",
    "gd.set_with_dataframe(sheet1,df_import,row=5,col=1)"
   ]
  }
 ],
 "metadata": {
  "kernelspec": {
   "display_name": "Python 3",
   "language": "python",
   "name": "python3"
  },
  "language_info": {
   "codemirror_mode": {
    "name": "ipython",
    "version": 3
   },
   "file_extension": ".py",
   "mimetype": "text/x-python",
   "name": "python",
   "nbconvert_exporter": "python",
   "pygments_lexer": "ipython3",
   "version": "3.11.3"
  },
  "orig_nbformat": 4
 },
 "nbformat": 4,
 "nbformat_minor": 2
}
